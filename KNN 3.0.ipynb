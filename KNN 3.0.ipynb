{
 "cells": [
  {
   "cell_type": "code",
   "execution_count": 1,
   "metadata": {},
   "outputs": [],
   "source": [
    "#KNN 3.0\n",
    "import numpy as np\n",
    "import pandas as pd\n",
    "import librosa as lb\n",
    "from sklearn.model_selection import train_test_split\n",
    "\n",
    "import matplotlib.pyplot as plt\n",
    "import IPython.display as ipd\n",
    "from sklearn.preprocessing import StandardScaler\n",
    "from sklearn.decomposition import PCA\n",
    "from sklearn.neighbors import KNeighborsClassifier\n",
    "from sklearn.model_selection import GridSearchCV\n",
    "from sklearn.metrics import confusion_matrix"
   ]
  },
  {
   "cell_type": "code",
   "execution_count": 2,
   "metadata": {},
   "outputs": [],
   "source": [
    "#Method\n",
    "\n",
    "#Extract samples\n",
    "def takeSamples():\n",
    "    \n",
    "    labels = pd.read_csv('E:\\\\olddesktop\\courses\\EEE 485 Statistical Learning and Data Analytics\\Project\\data\\\\train.csv')\n",
    "    labels = labels[labels['Class'].isin(['dog_bark', 'drilling'])]\n",
    "    \n",
    "    samples = []\n",
    "\n",
    "    for p in labels['ID']:\n",
    "        sound = lb.load('E:\\\\olddesktop\\\\courses\\\\EEE 485 Statistical Learning and Data Analytics\\\\Project\\\\data\\\\Train\\\\' \n",
    "                            + str(p) + '.wav',sr=22050, mono=True)\n",
    "        \n",
    "        samples.append(np.mean(lb.feature.mfcc(sound[0]),axis=1))  \n",
    "   \n",
    "    samples = np.array(samples)\n",
    "    \n",
    "    xTrain, xTest, yTrain, yTest = train_test_split(samples, labels)\n",
    "    \n",
    "    return xTrain, xTest, yTrain['Class'].values, yTest['Class'].values"
   ]
  },
  {
   "cell_type": "code",
   "execution_count": 7,
   "metadata": {},
   "outputs": [],
   "source": [
    "# Train Model and Report Result : Euclidean, Nneigbours, Uniform\n",
    "def train_test_KNN( xTrain, xTest, yTrain, yTest):\n",
    "    \n",
    "    #for each instane in the xTest \n",
    "    yEstim = []\n",
    "    \n",
    "    for testSamp in xTest:\n",
    "        \n",
    "        a = xTrain - testSamp\n",
    "        a = np.square(a)\n",
    "        a = a.sum(axis=1)\n",
    "        a = np.sqrt(a)\n",
    "        minInds = np.argsort(a)[0:3]\n",
    "        \n",
    "        #determine the class \n",
    "        noDog = 0\n",
    "        noDrill = 0\n",
    "        for minInd in minInds:\n",
    "            if(yTrain[minInd]== 'dog_bark'):\n",
    "                noDog += 1\n",
    "            else:\n",
    "                noDrill += 1\n",
    "        \n",
    "        if noDog > noDrill:\n",
    "            yEstim.append('dog_bark')\n",
    "        else:\n",
    "            yEstim.append('drilling')\n",
    "        \n",
    "    yEstim = np.array(yEstim)\n",
    "    #compare and output confusion matrix \n",
    "    confMatrix = np.zeros((2,2))\n",
    "    \n",
    "    for i, est in enumerate(yEstim):\n",
    "        if( est == 'dog_bark'):\n",
    "            if( yTest[i] == 'dog_bark'):\n",
    "                confMatrix[0,0] += 1\n",
    "            else:\n",
    "                confMatrix[0,1] += 1\n",
    "        else:\n",
    "            if( yTest[i] == 'drilling'):\n",
    "                confMatrix[1,1] += 1\n",
    "            else:\n",
    "                confMatrix[1,0] += 1\n",
    "    \n",
    "            \n",
    "    return confMatrix,yEstim\n"
   ]
  },
  {
   "cell_type": "code",
   "execution_count": 3,
   "metadata": {},
   "outputs": [],
   "source": [
    "xTrain, xTest, yTrain, yTest = takeSamples() "
   ]
  },
  {
   "cell_type": "code",
   "execution_count": 4,
   "metadata": {},
   "outputs": [
    {
     "data": {
      "text/plain": [
       "(300, 20)"
      ]
     },
     "execution_count": 4,
     "metadata": {},
     "output_type": "execute_result"
    }
   ],
   "source": [
    "np.shape(xTest)"
   ]
  },
  {
   "cell_type": "code",
   "execution_count": 5,
   "metadata": {},
   "outputs": [
    {
     "data": {
      "image/png": "[encoded data removed]",
      "text/plain": [
       "<Figure size 432x288 with 1 Axes>"
      ]
     },
     "metadata": {
      "needs_background": "light"
     },
     "output_type": "display_data"
    }
   ],
   "source": [
    "#A small PCA (out of curiosity)\n",
    "pca = PCA().fit(xTrain)\n",
    "plt.plot(np.cumsum(pca.explained_variance_ratio_))\n",
    "plt.xlabel('Number of Principal Components')\n",
    "plt.ylabel('Explained Variance(%)')\n",
    "plt.show()"
   ]
  },
  {
   "cell_type": "code",
   "execution_count": null,
   "metadata": {},
   "outputs": [],
   "source": []
  },
  {
   "cell_type": "code",
   "execution_count": 8,
   "metadata": {},
   "outputs": [
    {
     "data": {
      "text/plain": [
       "array([[119.,   7.],\n",
       "       [ 16., 158.]])"
      ]
     },
     "execution_count": 8,
     "metadata": {},
     "output_type": "execute_result"
    }
   ],
   "source": [
    "#Malual Implementation\n",
    "coMat,yestim = train_test_KNN( xTrain, xTest, yTrain, yTest)\n",
    "coMat"
   ]
  },
  {
   "cell_type": "code",
   "execution_count": 9,
   "metadata": {},
   "outputs": [
    {
     "data": {
      "text/plain": [
       "0.9233333333333333"
      ]
     },
     "execution_count": 9,
     "metadata": {},
     "output_type": "execute_result"
    }
   ],
   "source": [
    "accuracy = (coMat[1,1] +coMat[0,0])/sum(sum(coMat))\n",
    "accuracy"
   ]
  },
  {
   "cell_type": "code",
   "execution_count": 20,
   "metadata": {},
   "outputs": [
    {
     "data": {
      "text/plain": [
       "KNeighborsClassifier(algorithm='auto', leaf_size=30, metric='manhattan',\n",
       "           metric_params=None, n_jobs=1, n_neighbors=3, p=2,\n",
       "           weights='distance')"
      ]
     },
     "execution_count": 20,
     "metadata": {},
     "output_type": "execute_result"
    }
   ],
   "source": [
    "#BONUS: some additional optimization using sklearn\n",
    "param = {'n_neighbors': [3,5,7], 'weights': ['uniform','distance'], 'metric': ['euclidean', 'manhattan']}\n",
    "\n",
    "model = GridSearchCV(KNeighborsClassifier(), param, cv=5, n_jobs=-1)\n",
    "model.fit(xTrain, yTrain)\n",
    "model.best_estimator_"
   ]
  },
  {
   "cell_type": "code",
   "execution_count": 23,
   "metadata": {},
   "outputs": [
    {
     "name": "stdout",
     "output_type": "stream",
     "text": [
      "Accuracy\n",
      "0.95\n"
     ]
    },
    {
     "data": {
      "text/plain": [
       "array([[138,   3],\n",
       "       [ 12, 147]], dtype=int64)"
      ]
     },
     "execution_count": 23,
     "metadata": {},
     "output_type": "execute_result"
    }
   ],
   "source": [
    "print('Accuracy') \n",
    "print(model.score(xTest, yTest))\n",
    "yPred = model.predict(xTest)\n",
    "confusion_matrix(yPred, yTest)"
   ]
  },
  {
   "cell_type": "code",
   "execution_count": null,
   "metadata": {},
   "outputs": [],
   "source": [
    "    "
   ]
  }
 ],
 "metadata": {
  "kernelspec": {
   "display_name": "Python 3",
   "language": "python",
   "name": "python3"
  },
  "language_info": {
   "codemirror_mode": {
    "name": "ipython",
    "version": 3
   },
   "file_extension": ".py",
   "mimetype": "text/x-python",
   "name": "python",
   "nbconvert_exporter": "python",
   "pygments_lexer": "ipython3",
   "version": "3.7.0"
  }
 },
 "nbformat": 4,
 "nbformat_minor": 2
}
